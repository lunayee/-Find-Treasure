{
  "nbformat": 4,
  "nbformat_minor": 0,
  "metadata": {
    "colab": {
      "name": "Union-find並查集.ipynb",
      "provenance": [],
      "authorship_tag": "ABX9TyM5SiPpRwXfEwweK9JPwq5J",
      "include_colab_link": true
    },
    "kernelspec": {
      "name": "python3",
      "display_name": "Python 3"
    }
  },
  "cells": [
    {
      "cell_type": "markdown",
      "metadata": {
        "id": "view-in-github",
        "colab_type": "text"
      },
      "source": [
        "<a href=\"https://colab.research.google.com/github/lunayee/small-game/blob/main/Union_find%E4%B8%A6%E6%9F%A5%E9%9B%86.ipynb\" target=\"_parent\"><img src=\"https://colab.research.google.com/assets/colab-badge.svg\" alt=\"Open In Colab\"/></a>"
      ]
    },
    {
      "cell_type": "code",
      "metadata": {
        "colab": {
          "base_uri": "https://localhost:8080/",
          "height": 401
        },
        "id": "C6wcpQVGMtpN",
        "outputId": "f7fc1f2b-ab63-4c95-cd00-97e23d93348e"
      },
      "source": [
        "# people = 人數; leads = 線索數\n",
        "people, leads = map(int, input().split(' '))\n",
        "\n",
        "# 初始化每個人的編號\n",
        "f = []\n",
        "for i in range(people):\n",
        "    f.append(i)\n",
        "\n",
        "# 「擒賊先擒王原則」，不斷的找，找到小團體裡面的頭為止。\n",
        "def getf(f, v):\n",
        "    if f[v] == v:\n",
        "        return v\n",
        "    else:\n",
        "        # 路徑壓縮 (path compression)，每次在函數返回的時候，\n",
        "        # 順道把路上遇到的「頭頭」改為最後找到的「大頭編號」，也就是小團體的主要人物。\n",
        "        # 這樣可以提高以後找主要人物的速度。\n",
        "        f[v] = getf(f, f[v])\n",
        "        return f[v]\n",
        "\n",
        "# 合併兩個小團體的函數\n",
        "def merge(f, v, u):\n",
        "    t1 = getf(f, v)\n",
        "    t2 = getf(f, u)\n",
        "    if t1 != t2 : # 判斷兩位學生是否同屬一個小團體，及是否同一個頭頭。\n",
        "        f[t2] = t1\n",
        "        # 「靠左原則」，左邊變成右邊的頭頭。即把右邊的集合，變成左邊的子集合。\n",
        "        # 經過路徑壓縮以後，將f[u]的根的值也指定為v的大頭f[t1]\n",
        "\n",
        "'''\n",
        "測試資料 (test data) :\n",
        "10 9\n",
        "1 2\n",
        "3 4\n",
        "5 2\n",
        "4 6\n",
        "2 6\n",
        "8 7\n",
        "9 7\n",
        "1 6\n",
        "2 4\n",
        "'''\n",
        "\n",
        "# 開始合併線索\n",
        "for i in range(leads):\n",
        "    clue1, clue2 = map(int, input().split(' '))\n",
        "    merge(f, clue1, clue2)\n",
        "\n",
        "# 掃描最後有幾個獨立的小團體\n",
        "sum = 0\n",
        "for j in range(people):\n",
        "    if f[j] == j :\n",
        "        sum += 1\n",
        "\n",
        "print(sum)\n",
        "\n",
        "'''\n",
        "answer = 3\n",
        "'''\n",
        "\n"
      ],
      "execution_count": 11,
      "outputs": [
        {
          "output_type": "stream",
          "text": [
            "10 9\n",
            "1 2\n",
            "3 4\n",
            "5 2\n",
            " 4 6\n"
          ],
          "name": "stdout"
        },
        {
          "output_type": "error",
          "ename": "ValueError",
          "evalue": "ignored",
          "traceback": [
            "\u001b[0;31m---------------------------------------------------------------------------\u001b[0m",
            "\u001b[0;31mValueError\u001b[0m                                Traceback (most recent call last)",
            "\u001b[0;32m<ipython-input-11-a4f091f5dce1>\u001b[0m in \u001b[0;36m<module>\u001b[0;34m()\u001b[0m\n\u001b[1;32m     43\u001b[0m \u001b[0;31m# 開始合併線索\u001b[0m\u001b[0;34m\u001b[0m\u001b[0;34m\u001b[0m\u001b[0;34m\u001b[0m\u001b[0m\n\u001b[1;32m     44\u001b[0m \u001b[0;32mfor\u001b[0m \u001b[0mi\u001b[0m \u001b[0;32min\u001b[0m \u001b[0mrange\u001b[0m\u001b[0;34m(\u001b[0m\u001b[0mleads\u001b[0m\u001b[0;34m)\u001b[0m\u001b[0;34m:\u001b[0m\u001b[0;34m\u001b[0m\u001b[0;34m\u001b[0m\u001b[0m\n\u001b[0;32m---> 45\u001b[0;31m     \u001b[0mclue1\u001b[0m\u001b[0;34m,\u001b[0m \u001b[0mclue2\u001b[0m \u001b[0;34m=\u001b[0m \u001b[0mmap\u001b[0m\u001b[0;34m(\u001b[0m\u001b[0mint\u001b[0m\u001b[0;34m,\u001b[0m \u001b[0minput\u001b[0m\u001b[0;34m(\u001b[0m\u001b[0;34m)\u001b[0m\u001b[0;34m.\u001b[0m\u001b[0msplit\u001b[0m\u001b[0;34m(\u001b[0m\u001b[0;34m' '\u001b[0m\u001b[0;34m)\u001b[0m\u001b[0;34m)\u001b[0m\u001b[0;34m\u001b[0m\u001b[0;34m\u001b[0m\u001b[0m\n\u001b[0m\u001b[1;32m     46\u001b[0m     \u001b[0mmerge\u001b[0m\u001b[0;34m(\u001b[0m\u001b[0mf\u001b[0m\u001b[0;34m,\u001b[0m \u001b[0mclue1\u001b[0m\u001b[0;34m,\u001b[0m \u001b[0mclue2\u001b[0m\u001b[0;34m)\u001b[0m\u001b[0;34m\u001b[0m\u001b[0;34m\u001b[0m\u001b[0m\n\u001b[1;32m     47\u001b[0m \u001b[0;34m\u001b[0m\u001b[0m\n",
            "\u001b[0;31mValueError\u001b[0m: invalid literal for int() with base 10: ''"
          ]
        }
      ]
    }
  ]
}