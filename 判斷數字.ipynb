{
  "nbformat": 4,
  "nbformat_minor": 0,
  "metadata": {
    "colab": {
      "name": "判斷數字.ipynb",
      "provenance": [],
      "authorship_tag": "ABX9TyPR1uWLPoPY4JaZxBN5nrqG",
      "include_colab_link": true
    },
    "kernelspec": {
      "name": "python3",
      "display_name": "Python 3"
    }
  },
  "cells": [
    {
      "cell_type": "markdown",
      "metadata": {
        "id": "view-in-github",
        "colab_type": "text"
      },
      "source": [
        "<a href=\"https://colab.research.google.com/github/lunayee/small-game/blob/main/%E5%88%A4%E6%96%B7%E6%95%B8%E5%AD%97.ipynb\" target=\"_parent\"><img src=\"https://colab.research.google.com/assets/colab-badge.svg\" alt=\"Open In Colab\"/></a>"
      ]
    },
    {
      "cell_type": "code",
      "metadata": {
        "colab": {
          "base_uri": "https://localhost:8080/",
          "height": 200
        },
        "id": "mX3oroGiLbyr",
        "outputId": "751cdbcf-329f-4495-ef4f-1fb527ccc2ca"
      },
      "source": [
        "# 從 `sklearn` 載入 `datasets`\n",
        "from sklearn import datasets\n",
        "# 載入 matplotlib\n",
        "import matplotlib.pyplot as plt\n",
        "\n",
        "# 載入 `digits`\n",
        "digits = datasets.load_digits()\n",
        "\n",
        "# 設定圖形的大小（寬, 高）\n",
        "fig = plt.figure(figsize=(4, 2))\n",
        "print(fig)\n",
        "# 調整子圖形 \n",
        "fig.subplots_adjust(left=0, right=1, bottom=0, top=1, hspace=0.05, wspace=0.05)\n",
        "\n",
        "# 把前 8 個手寫數字顯示在子圖形\n",
        "for i in range(8):\n",
        "    # 在 2 x 4 網格中第 i + 1 個位置繪製子圖形，並且關掉座標軸刻度\n",
        "    ax = fig.add_subplot(2, 4, i + 1, xticks = [], yticks = [])\n",
        "    # 顯示圖形，色彩選擇灰階\n",
        "    ax.imshow(digits.images[i], cmap = plt.cm.binary)\n",
        "    # 在左下角標示目標值\n",
        "    ax.text(0, 7, str(digits.target[i]))\n",
        "\n",
        "# 顯示圖形\n",
        "plt.show()\n"
      ],
      "execution_count": 1,
      "outputs": [
        {
          "output_type": "stream",
          "text": [
            "Figure(288x144)\n"
          ],
          "name": "stdout"
        },
        {
          "output_type": "display_data",
          "data": {
            "image/png": "[encoded data removed]",
            "text/plain": [
              "<Figure size 288x144 with 8 Axes>"
            ]
          },
          "metadata": {
            "tags": []
          }
        }
      ]
    }
  ]
}