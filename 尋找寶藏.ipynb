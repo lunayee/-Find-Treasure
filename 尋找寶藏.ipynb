{
  "nbformat": 4,
  "nbformat_minor": 0,
  "metadata": {
    "colab": {
      "name": "尋找寶藏.ipynb",
      "provenance": [],
      "authorship_tag": "ABX9TyOD5GYrWyUNfeetOlUWSWZ4",
      "include_colab_link": true
    },
    "kernelspec": {
      "name": "python3",
      "display_name": "Python 3"
    }
  },
  "cells": [
    {
      "cell_type": "markdown",
      "metadata": {
        "id": "view-in-github",
        "colab_type": "text"
      },
      "source": [
        "<a href=\"https://colab.research.google.com/github/lunayee/-Find-Treasure/blob/main/%E5%B0%8B%E6%89%BE%E5%AF%B6%E8%97%8F.ipynb\" target=\"_parent\"><img src=\"https://colab.research.google.com/assets/colab-badge.svg\" alt=\"Open In Colab\"/></a>"
      ]
    },
    {
      "cell_type": "code",
      "metadata": {
        "id": "j5Snf9DyGZII"
      },
      "source": [
        "import random\n",
        "import time\n",
        "def aaa():\n",
        "    print('''歡迎來到寶藏窟\n",
        "希望你可以選到\n",
        "你想要的寶藏''')\n",
        "    print()\n",
        "def bbb():\n",
        "    cave=''\n",
        "    while cave !='1'and cave !='2':\n",
        "        print('''你要去哪一個洞窟中?\n",
        "\"1\"還是\"2\"''')\n",
        "        cave=input()\n",
        "    return cave\n",
        "def ccc(bbb):\n",
        "    print('你正在探勘....')\n",
        "    time.sleep(2)\n",
        "    print('裡面很黑....')\n",
        "    time.sleep(2)\n",
        "    print('好像有一個大東西!!!!!')\n",
        "    time.sleep(2)\n",
        "    print()\n",
        "    time.sleep(2)\n",
        "          \n",
        "    goodcave=random.randint(1,2)\n",
        "    if bbb==str(goodcave):\n",
        "        print('恭喜你找到大寶藏')\n",
        "    else:\n",
        "        print('連隻神奇寶貝都沒有看到')\n",
        "\n",
        "playagain='yes'\n",
        "while playagain=='yes':\n",
        "          aaa()\n",
        "          cavenumber=bbb()\n",
        "          ccc(cavenumber)\n",
        "          print('還想再玩一次嗎? yes or no?')\n",
        "          playagain=input()\n",
        "          \n"
      ],
      "execution_count": null,
      "outputs": []
    }
  ]
}